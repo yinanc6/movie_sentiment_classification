{
 "cells": [
  {
   "cell_type": "code",
   "execution_count": null,
   "id": "40097d49-d219-4352-b23d-1149a186519f",
   "metadata": {},
   "outputs": [],
   "source": [
    "import pandas as pd\n",
    "import numpy as np\n",
    "import time\n",
    "import os\n",
    "# import nltk\n",
    "# from nltk.corpus import stopwords\n",
    "from sklearn.metrics import roc_auc_score"
   ]
  },
  {
   "cell_type": "code",
   "execution_count": null,
   "id": "15b7324a-31df-48a2-8ea5-4a56b5257048",
   "metadata": {},
   "outputs": [],
   "source": [
    "from sklearn.feature_extraction.text import CountVectorizer, TfidfVectorizer\n",
    "from sklearn.linear_model import LogisticRegression\n",
    "from sklearn.linear_model import LogisticRegressionCV\n",
    "from sklearn.linear_model import ElasticNet\n",
    "from sklearn.linear_model import ElasticNetCV\n",
    "from sklearn.model_selection import StratifiedKFold"
   ]
  },
  {
   "cell_type": "code",
   "execution_count": null,
   "id": "e96cf692-85cf-4ff0-97e0-88c0ef5eb6be",
   "metadata": {},
   "outputs": [],
   "source": [
    "from xgboost import XGBClassifier"
   ]
  },
  {
   "cell_type": "code",
   "execution_count": null,
   "id": "904fd82a-b912-4c0b-9758-9fac05d91253",
   "metadata": {},
   "outputs": [],
   "source": [
    "start = time.time()\n",
    "train = pd.read_csv('train.csv')\n",
    "test = pd.read_csv('test.csv')\n",
    "    \n",
    "embedding_columns = [f'embedding_{i}' for i in range(1, 1537)]\n",
    "\n",
    "X_train = train[embedding_columns].values\n",
    "y_train = train['sentiment']\n",
    "\n",
    "cv = StratifiedKFold(n_splits = 5, shuffle = True, random_state = 50)\n",
    "\n",
    "elastic_net = ElasticNetCV(l1_ratio = np.linspace(0.01, 1, 100), \n",
    "                               alphas = np.logspace(-4, 4, 20), \n",
    "                               cv = cv, random_state = 50,\n",
    "                               max_iter = 10000)\n",
    "    \n",
    "elastic_net.fit(X_train, y_train)\n",
    "\n",
    "best_alpha = elastic_net.alpha_\n",
    "best_l1_ratio = elastic_net.l1_ratio_\n",
    "\n",
    "print(f\"  Best alpha: {best_alpha}\")\n",
    "print(f\"  Best l1_ratio: {best_l1_ratio}\")"
   ]
  }
 ],
 "metadata": {
  "kernelspec": {
   "display_name": "Python 3 (ipykernel)",
   "language": "python",
   "name": "python3"
  },
  "language_info": {
   "codemirror_mode": {
    "name": "ipython",
    "version": 3
   },
   "file_extension": ".py",
   "mimetype": "text/x-python",
   "name": "python",
   "nbconvert_exporter": "python",
   "pygments_lexer": "ipython3",
   "version": "3.12.2"
  }
 },
 "nbformat": 4,
 "nbformat_minor": 5
}
